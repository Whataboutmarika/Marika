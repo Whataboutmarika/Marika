{
 "cells": [
  {
   "cell_type": "code",
   "execution_count": 159,
   "metadata": {
    "collapsed": true,
    "pycharm": {
     "is_executing": false,
     "name": "#%%\n"
    }
   },
   "outputs": [
    {
     "name": "stdout",
     "text": [
      "Количество строк: 244\n",
      "Количество столбцов: 7\n",
      "Название 3 столбца: sex \n",
      "\n",
      "     total_bill   tip     sex smoker  day    time  size\n",
      "1         10.34  1.66    Male     No  Sun  Dinner     3\n",
      "6          8.77  2.00    Male     No  Sun  Dinner     2\n",
      "9         14.78  3.23    Male     No  Sun  Dinner     2\n",
      "10        10.27  1.71    Male     No  Sun  Dinner     2\n",
      "14        14.83  3.02  Female     No  Sun  Dinner     2\n",
      "..          ...   ...     ...    ...  ...     ...   ...\n",
      "228       13.28  2.72    Male     No  Sat  Dinner     2\n",
      "232       11.61  3.39    Male     No  Sat  Dinner     2\n",
      "233       10.77  1.47    Male     No  Sat  Dinner     2\n",
      "235       10.07  1.25    Male     No  Sat  Dinner     2\n",
      "236       12.60  1.00    Male    Yes  Sat  Dinner     2\n",
      "\n",
      "[80 rows x 7 columns] \n",
      "\n",
      "     size  day\n",
      "19      3  Sat\n",
      "20      2  Sat\n",
      "21      2  Sat\n",
      "22      2  Sat\n",
      "23      4  Sat\n",
      "..    ...  ...\n",
      "238     3  Sat\n",
      "239     3  Sat\n",
      "240     2  Sat\n",
      "241     2  Sat\n",
      "242     2  Sat\n",
      "\n",
      "[87 rows x 2 columns] \n",
      "\n",
      "      size\n",
      "day       \n",
      "Thur   152\n",
      "Fri     40\n",
      "Sat    219\n",
      "Sun    216 \n",
      "\n",
      "        M_Y     M_N    F_Y    F_N\n",
      "day                              \n",
      "Thur  30.58   58.83  20.93  61.49\n",
      "Fri   21.93    5.00  18.78   6.25\n",
      "Sat   77.74  104.21  43.03  35.42\n",
      "Sun   52.82  133.96  14.00  46.61 \n",
      "\n"
     ],
     "output_type": "stream"
    }
   ],
   "source": [
    "import seaborn as sb\n",
    "from pandas import DataFrame\n",
    "\n",
    "tips = sb.load_dataset(\"tips\")\n",
    "\n",
    "tips4 = tips[tips[\"total_bill\"] < 15]\n",
    "\n",
    "df = DataFrame(tips, columns= ['tip','day'])\n",
    "\n",
    "tips5 = df[df['day'] == 'Sat']\n",
    "tips6 = df.groupby('day').sum()\n",
    "\n",
    "df1 = DataFrame(tips, columns= ['day','tip','sex', 'smoker'])\n",
    "\n",
    "df_1_1 = df1.query('sex == \"Male\" and smoker == \"Yes\"')\\\n",
    "            .groupby('day')\\\n",
    "            .agg({\"tip\": \"sum\", }) \\\n",
    "\n",
    "df_1_2 = df1.query('sex == \"Male\" and smoker == \"No\"')\\\n",
    "            .groupby('day')\\\n",
    "            .agg({\"tip\": \"sum\", }) \\\n",
    "    \n",
    "df_2_1 = df1.query('sex == \"Female\" and smoker == \"Yes\"')\\\n",
    "            .groupby('day')\\\n",
    "            .agg({\"tip\": \"sum\", }) \\\n",
    "    \n",
    "df_2_2 = df1.query('sex == \"Female\" and smoker == \"No\"')\\\n",
    "            .groupby('day')\\\n",
    "            .agg({\"tip\": \"sum\", }) \\\n",
    "\n",
    "\n",
    "merge_M = df_1_1.merge(df_1_2, how = 'left', left_on='day', right_on='day')\n",
    "    \n",
    "merge_M.rename(columns={'tip_x': 'M_Y', 'tip_y': 'M_N'}, inplace=True)\n",
    "\n",
    "\n",
    "merge_all = merge_M.merge(df_2_1, how = 'left', left_on='day', right_on='day')\\\n",
    "                   .merge(df_2_2, how = 'left', left_on='day', right_on='day')\n",
    "\n",
    "merge_all.rename(columns={'tip_x': 'F_Y', 'tip_y': 'F_N'}, inplace=True)\n",
    "    \n",
    "\n",
    "print(\"Количество строк:\", tips.shape[0])\n",
    "print(\"Количество столбцов:\", tips.shape[1])\n",
    "print(\"Название 3 столбца:\", tips.columns[2], '\\n')\n",
    "print(tips4, '\\n')\n",
    "print(tips5, '\\n')\n",
    "print(tips6, '\\n')\n",
    "print(merge_all, '\\n')\n",
    "\n",
    "\n",
    "\n",
    "\n",
    "\n",
    "\n"
   ]
  }
 ],
 "metadata": {
  "kernelspec": {
   "display_name": "Python 3",
   "language": "python",
   "name": "python3"
  },
  "language_info": {
   "codemirror_mode": {
    "name": "ipython",
    "version": 2
   },
   "file_extension": ".py",
   "mimetype": "text/x-python",
   "name": "python",
   "nbconvert_exporter": "python",
   "pygments_lexer": "ipython2",
   "version": "2.7.6"
  },
  "pycharm": {
   "stem_cell": {
    "cell_type": "raw",
    "source": [],
    "metadata": {
     "collapsed": false
    }
   }
  }
 },
 "nbformat": 4,
 "nbformat_minor": 0
}