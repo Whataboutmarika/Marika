{
 "cells": [
  {
   "cell_type": "code",
   "execution_count": 129,
   "outputs": [],
   "source": [
    "import numpy as np\n",
    "from scipy.stats import geom\n",
    "import matplotlib.pyplot as plt\n",
    "\n",
    "p = 1/8\n",
    "q = 1 - p"
   ],
   "metadata": {
    "collapsed": false,
    "pycharm": {
     "name": "#%%\n",
     "is_executing": false
    }
   }
  },
  {
   "cell_type": "code",
   "execution_count": 133,
   "metadata": {
    "collapsed": true,
    "pycharm": {
     "is_executing": false
    }
   },
   "outputs": [
    {
     "name": "stdout",
     "text": [
      "[  1  12   2   0  30   6 110  12  72   0   2   6  20  72   0  12  56   0\n",
      "   2  20   2]\n",
      "[ 1  4  2  1  6  3 11  4  9  1  2  3  5  9  1  4  8  1  2  5  2]\n"
     ],
     "output_type": "stream"
    },
    {
     "data": {
      "text/plain": "<Figure size 432x288 with 1 Axes>",
      "image/png": "[encoded data removed]"
     },
     "metadata": {},
     "output_type": "display_data"
    }
   ],
   "source": [
    "# пункт а\n",
    "\n",
    "# P(X2 = k) = ((1 - p)**k) * p\n",
    "# P(X1 = k) = ((1 - p)**(k - 1)) * p задает функция geom\n",
    "# значит X2 = (k - 1)*X1\n",
    "\n",
    "repetition = 20\n",
    "\n",
    "p = 1/4\n",
    "\n",
    " \n",
    "x = np.arange(0,repetition + 1)\n",
    "# значения св X1\n",
    "z = np.array(geom.rvs(p, size = repetition)) \n",
    "z3 = np.append(1,z)\n",
    "z1 = z - 1\n",
    "# значения св X2 = (k - 1)*X1\n",
    "z2 = z1*z   \n",
    "z2 = np.append(1,z2)\n",
    "\n",
    "print(z2)\n",
    "print(z3)\n",
    "\n",
    "fig = plt.figure()\n",
    "ax = fig.add_subplot(111)\n",
    "fig.set(facecolor = 'lightcyan')\n",
    "ax.set_xlim([0, repetition + 1])\n",
    "ax.set_ylim([0, max(z2)])\n",
    "ax.scatter(x, z2, color = 'blue')\n",
    "plt.show()\n",
    "\n"
   ]
  },
  {
   "cell_type": "code",
   "execution_count": 131,
   "outputs": [
    {
     "data": {
      "text/plain": "<Figure size 432x288 with 1 Axes>",
      "image/png": "[encoded data removed]"
     },
     "metadata": {},
     "output_type": "display_data"
    }
   ],
   "source": [
    "def sum(k, z):\n",
    "    sum = z[0]\n",
    "    for i in range(k):\n",
    "        sum += z[i]\n",
    "    return sum\n",
    "# print(z)\n",
    "\n",
    "y = np.array([sum(i, z2) for i in range(repetition + 1)])\n",
    "\n",
    "# print(y)\n",
    "\n",
    "fig = plt.figure()\n",
    "ax = fig.add_subplot(111)\n",
    "fig.set(facecolor = 'lightcyan')\n",
    "ax.set_xlim([0, repetition + 1])\n",
    "ax.set_ylim([0, y[len(y) - 1] + 2])\n",
    "ax.scatter(x, y, color = 'blue')\n",
    "plt.show()"
   ],
   "metadata": {
    "collapsed": false,
    "pycharm": {
     "name": "#%%\n",
     "is_executing": false
    }
   }
  },
  {
   "cell_type": "code",
   "execution_count": 132,
   "outputs": [],
   "source": [
    "# пункт б\n",
    "# P(x = k) = ((1- p)**(k-1)) * p\n",
    "# q(t) = (t**k) * ((1 - p)**(k - 1)) * p = pt / (1 - t(1 - p))\n",
    "# pt = t - t**2 + p*t**2\n",
    "# t*(p - 1)*(t - 1) = 0 \n",
    "\n",
    "\n",
    "# def eqution(p):\n",
    "#     d = 1 - 4*(1-p)*p\n",
    "#     s1 = (1 + d**(1/2))/(2*(1 - p))\n",
    "#     s2 = (1 - d**(1/2))/(2*(1 - p)) \n",
    "#     if (s1 > 0.99):\n",
    "#         return s2\n",
    "# a = [eqution(1/i) for i in range(2, 20)] \n",
    "#     \n",
    "# \n",
    "# print(a)\n",
    "\n",
    "\n"
   ],
   "metadata": {
    "collapsed": false,
    "pycharm": {
     "name": "#%%\n",
     "is_executing": false
    }
   }
  },
  {
   "cell_type": "code",
   "execution_count": 132,
   "outputs": [],
   "source": [
    "\n"
   ],
   "metadata": {
    "collapsed": false,
    "pycharm": {
     "name": "#%%\n",
     "is_executing": false
    }
   }
  }
 ],
 "metadata": {
  "kernelspec": {
   "display_name": "Python 3",
   "language": "python",
   "name": "python3"
  },
  "language_info": {
   "codemirror_mode": {
    "name": "ipython",
    "version": 2
   },
   "file_extension": ".py",
   "mimetype": "text/x-python",
   "name": "python",
   "nbconvert_exporter": "python",
   "pygments_lexer": "ipython2",
   "version": "2.7.6"
  },
  "pycharm": {
   "stem_cell": {
    "cell_type": "raw",
    "source": [],
    "metadata": {
     "collapsed": false
    }
   }
  }
 },
 "nbformat": 4,
 "nbformat_minor": 0
}