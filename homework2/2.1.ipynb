{
 "cells": [
  {
   "cell_type": "code",
   "execution_count": 210,
   "outputs": [],
   "source": [
    "import numpy as np\n",
    "import scipy\n",
    "from scipy.stats import geom\n",
    "import matplotlib.pyplot as plt"
   ],
   "metadata": {
    "collapsed": false,
    "pycharm": {
     "name": "#%%\n",
     "is_executing": false
    }
   }
  },
  {
   "cell_type": "code",
   "execution_count": 211,
   "outputs": [],
   "source": [
    "# пункт б\n",
    "\n",
    "# P(x = k) = ((1- p)**k * p\n",
    "# q(t) = (t**k) * ((1 - p)**k) * p = p / (1 - t(1 - p))\n",
    "# p = t - t**2 - (t**2)*p\n",
    "# (t**2)*(1- p) - t - p\n",
    "\n",
    "# a = p1/(1-p1)\n",
    "\n",
    "\n",
    "def eqution(p):\n",
    "    d = 1 - 4*p*(1 - p)\n",
    "    s1 = (1 + d**(1/2))/(2*(1 - p))\n",
    "    s2 = (1 - d**(1/2))/(2*(1 - p)) \n",
    "    if (s1 > 0.99):\n",
    "        return s2\n"
   ],
   "metadata": {
    "collapsed": false,
    "pycharm": {
     "name": "#%%\n",
     "is_executing": false
    }
   }
  },
  {
   "cell_type": "code",
   "execution_count": 212,
   "metadata": {
    "collapsed": true,
    "pycharm": {
     "is_executing": false
    }
   },
   "outputs": [
    {
     "name": "stdout",
     "text": [
      "Вероятность вырождения =  0.8518518518518526 \n",
      "\n",
      "Самая длиная траектория =  2 \n",
      " Процесс выродился\n"
     ],
     "output_type": "stream"
    },
    {
     "data": {
      "text/plain": "<Figure size 432x288 with 1 Axes>",
      "image/png": "[encoded data removed]"
     },
     "metadata": {},
     "output_type": "display_data"
    }
   ],
   "source": [
    "# пункт а\n",
    "\n",
    "# P(X1 = k) = ((1- p)**(k-1) * p\n",
    "# P(X2 = l) = ((1- p)**l * p\n",
    "# l = k-1\n",
    "# X2 = X1 - 1\n",
    "\n",
    "repetition = 20\n",
    "\n",
    "p = 0.46\n",
    "\n",
    "print(\"Вероятность вырождения = \", eqution(p), '\\n')\n",
    "\n",
    "\n",
    "\n",
    "z = [1]\n",
    "l = 0\n",
    "\n",
    "# z = np.array(geom.rvs(p, size = repetition)) \n",
    "for i in range(repetition):\n",
    "    if (z[i] != 0):\n",
    "        x1 = scipy.stats.geom.rvs(p, size = z[i])\n",
    "        x1 -= 1\n",
    "        z.append(np.sum(x1))\n",
    "        l += 1\n",
    "    else:\n",
    "        print(\"Самая длиная траектория = \", l, '\\n', 'Процесс выродился')\n",
    "        z.append(0)\n",
    "        break\n",
    "if (l == repetition):\n",
    "    print(\"Самая длиная траектория = \", l, '\\n', 'Процесс не выродился')  \n",
    "\n",
    "\n",
    "# print('окончательный результат', z)\n",
    "\n",
    "\n",
    "x = np.arange(len(z))\n",
    "\n",
    "fig = plt.figure()\n",
    "ax = fig.add_subplot(111)\n",
    "fig.set(facecolor = 'lightcyan')\n",
    "fig.suptitle('Z_n ')\n",
    "plt.step(x, z, where = 'post', label = 'Z_n', color = 'm')\n",
    "ax.scatter(x, z, label = 'Z_n', color = 'm')\n",
    "plt.show()\n",
    "\n"
   ]
  },
  {
   "cell_type": "code",
   "execution_count": 213,
   "outputs": [
    {
     "data": {
      "text/plain": "<Figure size 432x288 with 1 Axes>",
      "image/png": "[encoded data removed]"
     },
     "metadata": {},
     "output_type": "display_data"
    }
   ],
   "source": [
    "def sum(k, z):\n",
    "    sum = z[0]\n",
    "    for i in range(k):\n",
    "        sum += z[i]\n",
    "    return sum\n",
    "\n",
    "y = np.array([sum(i, z) for i in range(len(z))])\n",
    "\n",
    "fig = plt.figure()\n",
    "ax = fig.add_subplot(111)\n",
    "fig.set(facecolor = 'lightcyan')\n",
    "fig.suptitle('Y_n ')\n",
    "plt.step(x, y, where = 'post', label = 'Y_n', color = 'blue')\n",
    "ax.scatter(x, y, label = 'Y_n', color = 'blue')\n",
    "plt.show()"
   ],
   "metadata": {
    "collapsed": false,
    "pycharm": {
     "name": "#%%\n",
     "is_executing": false
    }
   }
  },
  {
   "cell_type": "code",
   "execution_count": 214,
   "outputs": [
    {
     "data": {
      "text/plain": "<Figure size 432x288 with 1 Axes>",
      "image/png": "[encoded data removed]"
     },
     "metadata": {},
     "output_type": "display_data"
    }
   ],
   "source": [
    "fig = plt.figure()\n",
    "ax = fig.add_subplot(111)\n",
    "fig.set(facecolor = 'lightcyan')\n",
    "fig.suptitle( 'Z_n and Y_n ')\n",
    "ax.step(x, z, label = 'Z_n', color = 'm')\n",
    "ax.step(x, y, label = 'Y_n', color = 'blue')\n",
    "ax.scatter(x, z, color = 'm')\n",
    "ax.scatter(x, y, color = 'blue')\n",
    "ax.legend(loc = 'best')\n",
    "plt.show()\n",
    "\n",
    "\n",
    "\n",
    "\n",
    "\n"
   ],
   "metadata": {
    "collapsed": false,
    "pycharm": {
     "name": "#%%\n",
     "is_executing": false
    }
   }
  }
 ],
 "metadata": {
  "kernelspec": {
   "display_name": "Python 3",
   "language": "python",
   "name": "python3"
  },
  "language_info": {
   "codemirror_mode": {
    "name": "ipython",
    "version": 2
   },
   "file_extension": ".py",
   "mimetype": "text/x-python",
   "name": "python",
   "nbconvert_exporter": "python",
   "pygments_lexer": "ipython2",
   "version": "2.7.6"
  },
  "pycharm": {
   "stem_cell": {
    "cell_type": "raw",
    "source": [],
    "metadata": {
     "collapsed": false
    }
   }
  }
 },
 "nbformat": 4,
 "nbformat_minor": 0
}