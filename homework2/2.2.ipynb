{
 "cells": [
  {
   "cell_type": "code",
   "execution_count": null,
   "metadata": {
    "collapsed": true
   },
   "outputs": [],
   "source": [
    "import pan#%%\n",
    "\n",
    "import numpy as np\n",
    "from scipy.stats import geom\n",
    "import matplotlib.pyplot as plt\n",
    "\n",
    "p = 1/4\n",
    "q = 1 - p"
   ]
  },
  {
   "cell_type": "code",
   "execution_count": null,
   "outputs": [],
   "source": [
    "# пункт а\n",
    "\n",
    "repetition = 20\n",
    "\n",
    " \n",
    "x = np.arange(0,repetition + 1)\n",
    "z = np.array(geom.rvs(p, size = repetition))\n",
    "z = np.append(1,z)\n",
    "\n",
    "# print(z)\n",
    "\n",
    "fig = plt.figure()\n",
    "ax = fig.add_subplot(111)\n",
    "fig.set(facecolor = 'lightcyan')\n",
    "ax.set_xlim([0, repetition + 1])\n",
    "ax.set_ylim([0, 17])\n",
    "ax.scatter(x, z, color = 'blue')\n",
    "plt.show()\n",
    "\n"
   ],
   "metadata": {
    "collapsed": false,
    "pycharm": {
     "name": "#%%\n"
    }
   }
  },
  {
   "cell_type": "code",
   "execution_count": null,
   "outputs": [],
   "source": [
    "def sum(k, z):\n",
    "    sum = z[0]\n",
    "    for i in range(k):\n",
    "        sum += z[i]\n",
    "    return sum\n",
    "# print(z)\n",
    "\n",
    "y = np.array([sum(i, z) for i in range(repetition + 1)])\n",
    "\n",
    "# print(y)\n",
    "\n",
    "fig = plt.figure()\n",
    "ax = fig.add_subplot(111)\n",
    "fig.set(facecolor = 'lightcyan')\n",
    "ax.set_xlim([0, repetition + 1])\n",
    "ax.set_ylim([0, y[len(y) - 1] + 2])\n",
    "ax.scatter(x, y, color = 'blue')\n",
    "plt.show()"
   ],
   "metadata": {
    "collapsed": false,
    "pycharm": {
     "name": "#%%\n"
    }
   }
  },
  {
   "cell_type": "code",
   "execution_count": null,
   "outputs": [],
   "source": [
    "# пункт б\n",
    "\n",
    "# q(t) = (t**k) * ((1 - p)**(k - 1)) * p = pt / (1 - t(1 - p))\n",
    "\n",
    "\n",
    "\n",
    "\n",
    "\n",
    "das as pd\n",
    "\n",
    "\n",
    "\n"
   ],
   "metadata": {
    "collapsed": false,
    "pycharm": {
     "name": "#%%\n"
    }
   }
  }
 ],
 "metadata": {
  "kernelspec": {
   "display_name": "Python 3",
   "language": "python",
   "name": "python3"
  },
  "language_info": {
   "codemirror_mode": {
    "name": "ipython",
    "version": 2
   },
   "file_extension": ".py",
   "mimetype": "text/x-python",
   "name": "python",
   "nbconvert_exporter": "python",
   "pygments_lexer": "ipython2",
   "version": "2.7.6"
  },
  "pycharm": {
   "stem_cell": {
    "cell_type": "raw",
    "source": [],
    "metadata": {
     "collapsed": false
    }
   }
  }
 },
 "nbformat": 4,
 "nbformat_minor": 0
}