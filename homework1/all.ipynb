{
 "cells": [
  {
   "cell_type": "code",
   "execution_count": 3,
   "outputs": [
    {
     "name": "stdout",
     "text": [
      "Вероятность вырождения = : 0.8181818181818181\n",
      "___________________________________________________\n",
      "Кол-во частиц в 0 поколении = 1\n",
      "Суммарное кол-во частиц в 0 поколениях = 1\n",
      "___________________________________________________\n",
      "Кол-во частиц в 1 поколении = 1\n",
      "Суммарное кол-во частиц в 1 поколениях = 2\n",
      "___________________________________________________\n",
      "Кол-во частиц в 2 поколении = 1\n",
      "Суммарное кол-во частиц в 2 поколениях = 3\n",
      "___________________________________________________\n",
      "Кол-во частиц в 3 поколении = 2\n",
      "Суммарное кол-во частиц в 3 поколениях = 5\n",
      "___________________________________________________\n",
      "Кол-во частиц в 4 поколении = 10\n",
      "Суммарное кол-во частиц в 4 поколениях = 15\n",
      "___________________________________________________\n",
      "Кол-во частиц в 5 поколении = 24\n",
      "Суммарное кол-во частиц в 5 поколениях = 39\n",
      "___________________________________________________\n",
      "Кол-во частиц в 6 поколении = 20\n",
      "Суммарное кол-во частиц в 6 поколениях = 59\n",
      "___________________________________________________\n",
      "Кол-во частиц в 7 поколении = 14\n",
      "Суммарное кол-во частиц в 7 поколениях = 73\n",
      "___________________________________________________\n",
      "Кол-во частиц в 8 поколении = 28\n",
      "Суммарное кол-во частиц в 8 поколениях = 101\n",
      "___________________________________________________\n",
      "Кол-во частиц в 9 поколении = 30\n",
      "Суммарное кол-во частиц в 9 поколениях = 131\n",
      "___________________________________________________\n",
      "Кол-во частиц в 10 поколении = 0\n",
      "Суммарное кол-во частиц в 10 поколениях = 131\n",
      "___________________________________________________\n",
      "Процесс выродился в: 10 поколении\n",
      "___________________________________________________\n",
      "Все выродились\n"
     ],
     "output_type": "stream"
    },
    {
     "data": {
      "text/plain": "<Figure size 432x288 with 1 Axes>",
      "image/png": "[encoded data removed]"
     },
     "metadata": {
      "needs_background": "light"
     },
     "output_type": "display_data"
    }
   ],
   "source": [
    "import math\n",
    "import pylab\n",
    "import matplotlib\n",
    "import numpy as np\n",
    "import scipy.special\n",
    "import scipy.stats\n",
    "\n",
    "n = 20\n",
    "p =0.45\n",
    "z = [0]*n\n",
    "y = [0]*n\n",
    "z[0] = 1\n",
    "y[0] = 1\n",
    "print(\"Вероятность вырождения = :\", p/(1-p))\n",
    "\n",
    "print(\"___________________________________________________\")\n",
    "print(\"Кол-во частиц в\", 0, \"поколении =\", z[0])\n",
    "print(\"Суммарное кол-во частиц в\", 0, \"поколениях =\", y[0])\n",
    "\n",
    "l = 0\n",
    "print(\"___________________________________________________\")\n",
    "\n",
    "k = 10\n",
    "\n",
    "         \n",
    "for i in range(0,k-1):\n",
    "    if (z[i] != 0):\n",
    "        x = scipy.stats.geom.rvs(p, size = z[i])\n",
    "        x -=1\n",
    "        z[i+1] = np.sum(x)\n",
    "        y[i+1] = y[i] + z[i+1]\n",
    "        print(\"Кол-во частиц в\", i+1, \"поколении =\", z[i+1])\n",
    "        print(\"Суммарное кол-во частиц в\", i+1, \"поколениях =\", y[i+1])\n",
    "        print(\"___________________________________________________\")\n",
    "        l = l+1\n",
    "    else:\n",
    "        print(\"Процесс выродился в:\", l, \"поколении\")\n",
    "        for j in range(l,n):\n",
    "            y[j] = y[l]\n",
    "            z[j] = 0\n",
    "        break\n",
    "     \n",
    "    \n",
    "if (z[l] != 0):\n",
    "    m = (n-k)*z[k-1]\n",
    "    a = [0]*m\n",
    "    for i in range(0,z[k-1]):\n",
    "        a[i] = 1\n",
    "    q = 0\n",
    "    for i in range(0,z[k-1]):\n",
    "        for j in range(0,n-k):\n",
    "            x = scipy.stats.geom.rvs(p, size = a[i+j])\n",
    "            x -= 1\n",
    "            a[i+j+1] = np.sum(x)    \n",
    "            if ((a[i+j+1] >= 0) and (a[i+j+1] <= 0)):\n",
    "                q = q+1\n",
    "                for s in range(j+1,n-k):\n",
    "                    a[i+s+1] = 0\n",
    "                    break\n",
    "                \n",
    "\n",
    "\n",
    "    r = 0\n",
    "    for t in range(k-1,n-1):\n",
    "        if (z[t] != 0):\n",
    "            for i in range(0,z[k-1]):\n",
    "                z[t+1] = a[i+t-k+1] +a[i+t-k+2] \n",
    "                y[t+1] = y[t] + z[t+1]\n",
    "            print(\"Кол-во частиц в\", t+1, \"поколении =\", z[t+1])\n",
    "            print(\"Суммарное кол-во частиц в\", t+1, \"поколениях =\", y[t+1])\n",
    "            print(\"___________________________________________________\")\n",
    "            r = r+1\n",
    "        else:\n",
    "            print(\"Процесс выродился в:\", l+r, \"поколении\")\n",
    "            print(\"___________________________________________________\")\n",
    "            for b in range(k+r-1,n-1):\n",
    "                y[b] = y[k+r-1]\n",
    "                z[b] = 0\n",
    "            break\n",
    "            \n",
    "    \n",
    "if (z[k] != 0):\n",
    "    print(\"Доля тех частиц в поколении k, чьи потомки дожили до поколения n:\", (z[k]-q)/z[k])\n",
    "else:\n",
    "    print(\"Все выродились\")\n",
    "    \n",
    "        \n",
    "x_axis = np.arange(0, n)\n",
    "matplotlib.pyplot.step(x_axis, y, where = 'post', label = 'Yn')\n",
    "matplotlib.pyplot.step(x_axis, z, where = 'post', label = 'Zn')\n",
    "matplotlib.pyplot.legend(title='Zn and Yn:')\n",
    "matplotlib.pyplot.show()"
   ],
   "metadata": {
    "collapsed": false,
    "pycharm": {
     "name": "#%%\n",
     "is_executing": false
    }
   }
  }
 ],
 "metadata": {
  "kernelspec": {
   "display_name": "Python 3",
   "language": "python",
   "name": "python3"
  },
  "language_info": {
   "codemirror_mode": {
    "name": "ipython",
    "version": 2
   },
   "file_extension": ".py",
   "mimetype": "text/x-python",
   "name": "python",
   "nbconvert_exporter": "python",
   "pygments_lexer": "ipython2",
   "version": "2.7.6"
  },
  "pycharm": {
   "stem_cell": {
    "cell_type": "raw",
    "source": [],
    "metadata": {
     "collapsed": false
    }
   }
  }
 },
 "nbformat": 4,
 "nbformat_minor": 0
}