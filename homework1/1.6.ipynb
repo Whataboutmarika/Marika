{
 "cells": [
  {
   "cell_type": "code",
   "execution_count": 104,
   "outputs": [],
   "source": [
    "import numpy as np\n",
    "import matplotlib.pyplot as plt\n",
    "\n",
    "\n"
   ],
   "metadata": {
    "collapsed": false,
    "pycharm": {
     "name": "#%%\n",
     "is_executing": false
    }
   }
  },
  {
   "cell_type": "code",
   "execution_count": 105,
   "metadata": {
    "collapsed": true,
    "pycharm": {
     "is_executing": false
    }
   },
   "outputs": [
    {
     "data": {
      "text/plain": "<Figure size 432x288 with 1 Axes>",
      "image/png": "[encoded data removed]"
     },
     "metadata": {},
     "output_type": "display_data"
    }
   ],
   "source": [
    "# пункт а\n",
    "\n",
    "repetition = 100\n",
    "\n",
    "a = -1\n",
    "b = 1\n",
    "\n",
    "c = 2\n",
    "\n",
    "def f(x, a, b):\n",
    "    if (x >= a) & (x <= 0):\n",
    "        y = x + 1\n",
    "    elif (x >= 0) & (x <= b):\n",
    "        y = -x +1\n",
    "    elif (x <= a) & (x >= b):\n",
    "        y = 0\n",
    "    return y\n",
    "\n",
    "def g(x, a, b):\n",
    "    if (x >= a) & (x <= b):\n",
    "        y = 1/(b - a)\n",
    "    elif (x <= a) & (x >= b):\n",
    "        y = 0\n",
    "    return y\n",
    "\n",
    "x_value = np.random.uniform(-1, 1, repetition)\n",
    "\n",
    "y_value = np.array([])\n",
    "\n",
    "for i in x_value:\n",
    "    # print(f(x_value[i], a, b)/g(x_value[i], a, b))\n",
    "    if (f(i, a, b)/g(i, a, b) <= c):\n",
    "       y_value =  np.append(y_value, i)\n",
    "\n",
    "f_y = np.array([f(i,a , b) for i in y_value])\n",
    "\n",
    "\n",
    "\n",
    "\n",
    "fig = plt.figure()\n",
    "ax = fig.add_subplot(111)\n",
    "fig.set(facecolor = 'lightcyan')\n",
    "ax.set_xlim([a, b])\n",
    "ax.set_ylim([0, 1.25])\n",
    "ax.scatter(y_value, f_y, color = 'deepskyblue')\n",
    "plt.show()\n",
    "\n",
    "# print(y_value, len(y_value))\n"
   ]
  },
  {
   "cell_type": "code",
   "execution_count": 106,
   "outputs": [
    {
     "name": "stdout",
     "text": [
      " c =  3.7599424119465006\n",
      "293\n"
     ],
     "output_type": "stream"
    },
    {
     "data": {
      "text/plain": "<Figure size 432x288 with 1 Axes>",
      "image/png": "[encoded data removed]"
     },
     "metadata": {},
     "output_type": "display_data"
    }
   ],
   "source": [
    "# пункт б\n",
    "\n",
    "from scipy.stats import cauchy\n",
    "from scipy.stats import norm\n",
    "\n",
    "repetition = 300\n",
    "\n",
    "x0 = 0 \n",
    "gamma = 1\n",
    "\n",
    "m = 1\n",
    "s = 1\n",
    "\n",
    "# c = 6\n",
    "\n",
    "# c = cauchy.pdf( x0 + 3*gamma, x0, gamma)/(norm.pdf(m, m, s))\n",
    "c = 1.5/(norm.pdf(m, m, s))\n",
    "\n",
    "print(\" c = \", c)\n",
    "\n",
    "x_value = cauchy.rvs(x0, gamma, repetition)\n",
    "\n",
    "y_value = np.array([])\n",
    "\n",
    "for i in x_value:\n",
    "    if (norm.pdf(i, m, s)/cauchy.pdf(i, x0 , gamma) <= c):\n",
    "       y_value =  np.append(y_value, i)\n",
    "\n",
    "f_y = np.array([norm.pdf(i, m, s) for i in y_value])\n",
    "\n",
    "\n",
    "fig = plt.figure()\n",
    "ax = fig.add_subplot(111)\n",
    "fig.set(facecolor = 'lightcyan')\n",
    "ax.set_xlim([m - 3*s, m + 3*s])\n",
    "ax.set_ylim([0, 1/s])\n",
    "ax.scatter(y_value, f_y, color = 'deepskyblue')\n",
    "plt.show()\n",
    "\n",
    "print(len(y_value))\n",
    "\n",
    "\n",
    "\n"
   ],
   "metadata": {
    "collapsed": false,
    "pycharm": {
     "name": "#%%\n",
     "is_executing": false
    }
   }
  }
 ],
 "metadata": {
  "kernelspec": {
   "display_name": "Python 3",
   "language": "python",
   "name": "python3"
  },
  "language_info": {
   "codemirror_mode": {
    "name": "ipython",
    "version": 2
   },
   "file_extension": ".py",
   "mimetype": "text/x-python",
   "name": "python",
   "nbconvert_exporter": "python",
   "pygments_lexer": "ipython2",
   "version": "2.7.6"
  },
  "pycharm": {
   "stem_cell": {
    "cell_type": "raw",
    "source": [],
    "metadata": {
     "collapsed": false
    }
   }
  }
 },
 "nbformat": 4,
 "nbformat_minor": 0
}