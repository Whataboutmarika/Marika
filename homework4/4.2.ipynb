{
 "cells": [
  {
   "cell_type": "code",
   "execution_count": 29,
   "metadata": {
    "collapsed": true,
    "pycharm": {
     "name": "#%%\n"
    }
   },
   "outputs": [
    {
     "name": "stdout",
     "output_type": "stream",
     "text": [
      "Условная вероятность =  0.5709094463407113 \n",
      "\n",
      "Условная вероятность методом Монте-Карло = 0.57\n"
     ]
    }
   ],
   "source": [
    "import numpy as np\n",
    "\n",
    "P = np.array([[2/3, 1/3], [1/4, 3/4]])\n",
    "\n",
    "\n",
    "p2 = np.array([1,0])\n",
    "P_8 = np.linalg.matrix_power(P, 8)\n",
    "P_10 = p2.dot(P_8)\n",
    "\n",
    "print(\"Условная вероятность = \", P_10[1],'\\n')\n",
    "\n",
    "\n",
    "def fun(p_0, P, step):\n",
    "    s = np.arange(1, P.shape[1]+1)\n",
    "    p_0 = p_0\n",
    "    a = np.random.choice(s, 1, p = p_0)\n",
    "    for i in range(step):\n",
    "        for j in s:\n",
    "            if a[i] == j:\n",
    "                a = np.append(a, np.random.choice(s, 1, p = P[j -1])[0])\n",
    "                break\n",
    "    return(a)\n",
    "\n",
    "\n",
    "repetition = 100\n",
    "c = 0\n",
    "\n",
    "for i in range(repetition):\n",
    "        if fun(p2, P, 8)[8] == 2:\n",
    "            c += 1\n",
    "print(\"Условная вероятность методом Монте-Карло =\", c/repetition)\n"
   ]
  }
 ],
 "metadata": {
  "kernelspec": {
   "display_name": "Python 3",
   "language": "python",
   "name": "python3"
  },
  "language_info": {
   "codemirror_mode": {
    "name": "ipython",
    "version": 2
   },
   "file_extension": ".py",
   "mimetype": "text/x-python",
   "name": "python",
   "nbconvert_exporter": "python",
   "pygments_lexer": "ipython2",
   "version": "2.7.6"
  }
 },
 "nbformat": 4,
 "nbformat_minor": 0
}