{
 "cells": [
  {
   "cell_type": "code",
   "execution_count": 6,
   "metadata": {
    "collapsed": true
   },
   "outputs": [
    {
     "name": "stdout",
     "output_type": "stream",
     "text": [
      "P 1 = [0.35294118 0.29411765 0.35294118] \n",
      "\n",
      "P 8 = [0.35294118 0.29411765 0.35294118] \n",
      "\n",
      "P 30 = [0.35294118 0.29411765 0.35294118] \n",
      "\n"
     ]
    }
   ],
   "source": [
    "import numpy as np\n",
    "import matplotlib.pyplot as plt\n",
    "\n",
    "repetition = 30\n",
    "\n",
    "p_0 = np.array([6/17, 5/17, 6/17])\n",
    "A= np.array([[1/3, 1/3, 1/3], [1/5, 2/5, 2/5], [1/2, 1/6, 1/3]])\n",
    "n = [1, 8, 30]\n",
    "\n",
    "\n",
    "def distribution_MC(v0, A, n):\n",
    "     A_n = np.linalg.matrix_power(A, n)\n",
    "     return v0.dot(A_n)\n",
    "for i in n:\n",
    "    print('P', i, '=', distribution_MC(p_0, A, 10), '\\n')\n"
   ]
  },
  {
   "cell_type": "code",
   "execution_count": 18,
   "outputs": [
    {
     "data": {
      "text/plain": "<Figure size 432x288 with 1 Axes>",
      "image/png": "[encoded data removed]"
     },
     "metadata": {},
     "output_type": "display_data"
    }
   ],
   "source": [
    "def fun(p_0, P, step):\n",
    "    s = np.arange(1, P.shape[1]+1)\n",
    "    p_0 = p_0\n",
    "    a = np.random.choice(s, 1, p = p_0)\n",
    "    for i in range(step):\n",
    "        for j in s:\n",
    "            if a[i] == j:\n",
    "                a = np.append(a, np.random.choice(s, 1, p = P[j -1])[0])\n",
    "                break\n",
    "    return(a)\n",
    "\n",
    "p = fun(p_0, A, repetition)\n",
    "# print(p, len(p))\n",
    "\n",
    "\n",
    "\n",
    "x = np.arange(repetition+1)\n",
    "fig = plt.figure()\n",
    "ax = fig.add_subplot(111)\n",
    "fig.set(facecolor = 'lightcyan')\n",
    "fig.suptitle('MC length = 30')\n",
    "ax.scatter(x, p, label = 'Y_n', color = 'blue')\n",
    "plt.step(x, p, color = 'blue')\n",
    "plt.show()\n",
    "\n",
    "\n"
   ],
   "metadata": {
    "collapsed": false,
    "pycharm": {
     "name": "#%%\n"
    }
   }
  }
 ],
 "metadata": {
  "kernelspec": {
   "display_name": "Python 3",
   "language": "python",
   "name": "python3"
  },
  "language_info": {
   "codemirror_mode": {
    "name": "ipython",
    "version": 2
   },
   "file_extension": ".py",
   "mimetype": "text/x-python",
   "name": "python",
   "nbconvert_exporter": "python",
   "pygments_lexer": "ipython2",
   "version": "2.7.6"
  }
 },
 "nbformat": 4,
 "nbformat_minor": 0
}