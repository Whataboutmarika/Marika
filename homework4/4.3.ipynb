{
 "cells": [
  {
   "cell_type": "code",
   "execution_count": 48,
   "metadata": {
    "collapsed": true
   },
   "outputs": [
    {
     "name": "stdout",
     "output_type": "stream",
     "text": [
      "P 1 = [0.35294118 0.29411765 0.35294118] \n",
      "\n",
      "P 8 = [0.35294118 0.29411765 0.35294118] \n",
      "\n",
      "P 30 = [0.35294118 0.29411765 0.35294118] \n",
      "\n",
      "[2. 3. 1. 1. 1. 1. 2. 3. 2. 3. 1. 1. 1. 1. 1. 3. 1. 1. 3. 3. 2. 1. 3. 2.\n",
      " 1. 1. 3.]\n"
     ]
    },
    {
     "data": {
      "text/plain": "<Figure size 432x288 with 1 Axes>",
      "image/png": "[encoded data removed]"
     },
     "metadata": {},
     "output_type": "display_data"
    }
   ],
   "source": [
    "import numpy as np\n",
    "import matplotlib.pyplot as plt\n",
    "\n",
    "repetition = 27\n",
    "\n",
    "v0 = np.array([6/17, 5/17, 6/17])\n",
    "A= np.array([[1/3, 1/3, 1/3], [1/5, 2/5, 2/5], [1/2, 1/6, 1/3]])\n",
    "n = [1, 8, 30]\n",
    "\n",
    "\n",
    "def distribution_MC(v0, A, n):\n",
    "     A_n = np.linalg.matrix_power(A, n)\n",
    "     return v0.dot(A_n)\n",
    "     # return A_n\n",
    "\n",
    "def MC(P, m):\n",
    "    a = np.array([])\n",
    "    for i in m:\n",
    "        sum = P[0]\n",
    "        n = 1\n",
    "        for j in range(1,len(P)):\n",
    "            if i > sum:\n",
    "                sum +=P[j]\n",
    "                n +=1\n",
    "        a = np.append(a, n)\n",
    "    return a\n",
    "\n",
    "\n",
    "\n",
    "for i in n:\n",
    "   print('P',i,'=', distribution_MC(v0, A, i), '\\n')\n",
    "\n",
    "m = np.random.uniform(0,1, repetition)\n",
    "\n",
    "l = MC(v0, m)\n",
    "print(l)\n",
    "\n",
    "x = np.arange(repetition)\n",
    "fig = plt.figure()\n",
    "ax = fig.add_subplot(111)\n",
    "fig.set(facecolor = 'lightcyan')\n",
    "fig.suptitle('MC')\n",
    "ax.scatter(x, l, label = 'Y_n', color = 'blue')\n",
    "plt.show()\n",
    "\n",
    "\n"
   ]
  }
 ],
 "metadata": {
  "kernelspec": {
   "display_name": "Python 3",
   "language": "python",
   "name": "python3"
  },
  "language_info": {
   "codemirror_mode": {
    "name": "ipython",
    "version": 2
   },
   "file_extension": ".py",
   "mimetype": "text/x-python",
   "name": "python",
   "nbconvert_exporter": "python",
   "pygments_lexer": "ipython2",
   "version": "2.7.6"
  }
 },
 "nbformat": 4,
 "nbformat_minor": 0
}